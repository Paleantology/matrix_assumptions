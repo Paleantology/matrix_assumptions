{
 "cells": [
  {
   "cell_type": "code",
   "execution_count": 1,
   "metadata": {},
   "outputs": [],
   "source": [
    "import dendropy\n",
    "import glob\n",
    "from dendropy.calculate import treecompare\n",
    "import pandas as pd\n",
    "import matplotlib.pyplot as plt\n",
    "import seaborn as sns"
   ]
  },
  {
   "cell_type": "code",
   "execution_count": 2,
   "metadata": {},
   "outputs": [],
   "source": [
    "reference_tree = dendropy.Tree.get_from_path(\"data/barden.tre\", schema = \"nexus\", preserve_underscores=True)\n",
    "for edge in reference_tree.postorder_edge_iter():\n",
    "    if edge.length is None:\n",
    "        edge.length = 0.01"
   ]
  },
  {
   "cell_type": "code",
   "execution_count": 86,
   "metadata": {},
   "outputs": [],
   "source": [
    "list_trees = []\n",
    "list_trees = glob.glob(\"output/100/no_missing/2_large/*.mcc.tre\")\n"
   ]
  },
  {
   "cell_type": "code",
   "execution_count": 77,
   "metadata": {},
   "outputs": [],
   "source": [
    "list_untrees = []\n",
    "\n",
    "list_untrees = glob.glob(\"output/100/missing/5_large_missing_unpart/*mcc.tre\")"
   ]
  },
  {
   "cell_type": "code",
   "execution_count": 78,
   "metadata": {},
   "outputs": [],
   "source": [
    "total_diffs = 2*len(reference_tree.nodes()) - 2"
   ]
  },
  {
   "cell_type": "code",
   "execution_count": 79,
   "metadata": {},
   "outputs": [
    {
     "data": {
      "text/plain": [
       "99"
      ]
     },
     "execution_count": 79,
     "metadata": {},
     "output_type": "execute_result"
    }
   ],
   "source": [
    "rf_unlist = []\n",
    "for tree in list_untrees:\n",
    "    est_tree = dendropy.Tree.get_from_path(tree, schema = \"nexus\", preserve_underscores = True, taxon_namespace = reference_tree.taxon_namespace)\n",
    "#    unrf = treecompare.robinson_foulds_distance(reference_tree, est_tree)\n",
    "#    unrf = treecompare.symmetric_difference(reference_tree, est_tree)\n",
    "\n",
    "#    rf_unlist.append((treecompare.symmetric_difference(est_tree,reference_tree))/total_diffs)\n",
    "    rf_unlist.append(treecompare.euclidean_distance(est_tree,reference_tree))\n",
    "len(rf_unlist)"
   ]
  },
  {
   "cell_type": "code",
   "execution_count": 87,
   "metadata": {},
   "outputs": [
    {
     "data": {
      "text/plain": [
       "102"
      ]
     },
     "execution_count": 87,
     "metadata": {},
     "output_type": "execute_result"
    }
   ],
   "source": [
    "rf_list = []\n",
    "for tree in list_trees:\n",
    "    est_tree = dendropy.Tree.get_from_path(tree, schema = \"nexus\", preserve_underscores = True, taxon_namespace = reference_tree.taxon_namespace)\n",
    "    for edge in est_tree.postorder_edge_iter():\n",
    "        if edge.length is None:\n",
    "            edge.length = 0\n",
    "    rf_list.append(treecompare.euclidean_distance(est_tree,reference_tree))\n",
    "#    rf = treecompare.robinson_foulds_distance(reference_tree, est_tree)\n",
    "#    rf = treecompare.symmetric_difference(reference_tree, est_tree)\n",
    "#    rf_list.append((treecompare.symmetric_difference(est_tree,reference_tree))/total_diffs)\n",
    "\n",
    "len(rf_list)"
   ]
  },
  {
   "cell_type": "code",
   "execution_count": 90,
   "metadata": {},
   "outputs": [
    {
     "data": {
      "text/html": [
       "<div>\n",
       "<style scoped>\n",
       "    .dataframe tbody tr th:only-of-type {\n",
       "        vertical-align: middle;\n",
       "    }\n",
       "\n",
       "    .dataframe tbody tr th {\n",
       "        vertical-align: top;\n",
       "    }\n",
       "\n",
       "    .dataframe thead th {\n",
       "        text-align: right;\n",
       "    }\n",
       "</style>\n",
       "<table border=\"1\" class=\"dataframe\">\n",
       "  <thead>\n",
       "    <tr style=\"text-align: right;\">\n",
       "      <th></th>\n",
       "      <th>RF</th>\n",
       "    </tr>\n",
       "  </thead>\n",
       "  <tbody>\n",
       "    <tr>\n",
       "      <th>0</th>\n",
       "      <td>2.410823</td>\n",
       "    </tr>\n",
       "    <tr>\n",
       "      <th>1</th>\n",
       "      <td>2.346640</td>\n",
       "    </tr>\n",
       "    <tr>\n",
       "      <th>2</th>\n",
       "      <td>2.361072</td>\n",
       "    </tr>\n",
       "    <tr>\n",
       "      <th>3</th>\n",
       "      <td>2.303434</td>\n",
       "    </tr>\n",
       "    <tr>\n",
       "      <th>4</th>\n",
       "      <td>2.406686</td>\n",
       "    </tr>\n",
       "    <tr>\n",
       "      <th>...</th>\n",
       "      <td>...</td>\n",
       "    </tr>\n",
       "    <tr>\n",
       "      <th>97</th>\n",
       "      <td>2.387511</td>\n",
       "    </tr>\n",
       "    <tr>\n",
       "      <th>98</th>\n",
       "      <td>2.367624</td>\n",
       "    </tr>\n",
       "    <tr>\n",
       "      <th>99</th>\n",
       "      <td>2.340024</td>\n",
       "    </tr>\n",
       "    <tr>\n",
       "      <th>100</th>\n",
       "      <td>2.359973</td>\n",
       "    </tr>\n",
       "    <tr>\n",
       "      <th>101</th>\n",
       "      <td>2.329829</td>\n",
       "    </tr>\n",
       "  </tbody>\n",
       "</table>\n",
       "<p>102 rows × 1 columns</p>\n",
       "</div>"
      ],
      "text/plain": [
       "           RF\n",
       "0    2.410823\n",
       "1    2.346640\n",
       "2    2.361072\n",
       "3    2.303434\n",
       "4    2.406686\n",
       "..        ...\n",
       "97   2.387511\n",
       "98   2.367624\n",
       "99   2.340024\n",
       "100  2.359973\n",
       "101  2.329829\n",
       "\n",
       "[102 rows x 1 columns]"
      ]
     },
     "execution_count": 90,
     "metadata": {},
     "output_type": "execute_result"
    }
   ],
   "source": [
    "df = pd.DataFrame({'RF': rf_list}) #, 'unRF': rf_unlist})\n",
    "#df[\"Magnitude\"] = df[\"unRF\"] - df[\"RF\"]\n",
    "df"
   ]
  },
  {
   "cell_type": "code",
   "execution_count": 66,
   "metadata": {},
   "outputs": [
    {
     "data": {
      "text/plain": [
       "-1.0710945002722754"
      ]
     },
     "execution_count": 66,
     "metadata": {},
     "output_type": "execute_result"
    }
   ],
   "source": [
    "df.Magnitude.mean()"
   ]
  },
  {
   "cell_type": "code",
   "execution_count": 32,
   "metadata": {},
   "outputs": [
    {
     "data": {
      "text/plain": [
       "array([[<AxesSubplot:title={'center':'RF'}>,\n",
       "        <AxesSubplot:title={'center':'unRF'}>],\n",
       "       [<AxesSubplot:title={'center':'Magnitude'}>, <AxesSubplot:>]],\n",
       "      dtype=object)"
      ]
     },
     "execution_count": 32,
     "metadata": {},
     "output_type": "execute_result"
    },
    {
     "data": {
      "image/png": "[encoded data removed]",
      "text/plain": [
       "<Figure size 432x288 with 4 Axes>"
      ]
     },
     "metadata": {
      "needs_background": "light"
     },
     "output_type": "display_data"
    }
   ],
   "source": [
    "df.hist()"
   ]
  },
  {
   "cell_type": "code",
   "execution_count": 56,
   "metadata": {},
   "outputs": [
    {
     "data": {
      "image/png": "[encoded data removed]",
      "text/plain": [
       "<Figure size 432x288 with 1 Axes>"
      ]
     },
     "metadata": {
      "needs_background": "light"
     },
     "output_type": "display_data"
    }
   ],
   "source": [
    "sns.histplot(df[\"Magnitude\"], kde = True, color = \"blue\")\n",
    "plt.xlabel(\"Change in Distance to True Tree\")\n",
    "plt.ylabel(\"Frequency\")\n",
    "#plt.savefig(\"3_small_bldist.pdf\")\n",
    "plt.show()"
   ]
  },
  {
   "cell_type": "code",
   "execution_count": 93,
   "metadata": {},
   "outputs": [
    {
     "data": {
      "image/png": "[encoded data removed]",
      "text/plain": [
       "<Figure size 432x288 with 1 Axes>"
      ]
     },
     "metadata": {
      "needs_background": "light"
     },
     "output_type": "display_data"
    }
   ],
   "source": [
    "#sns.histplot(df[\"unRF\"], label = \"Unpartitioned\", color = \"teal\")\n",
    "sns.histplot(df[\"RF\"], label = \"Partitioned\", color = \"pink\")\n",
    "plt.xlabel(\"Distance to True Tree\")\n",
    "plt.ylabel(\"Frequency\")\n",
    "#plt.text(.302, 42, \"Magnitude =\" + str(round(df.Magnitude.mean(), 3)), horizontalalignment='left', size='medium', color='black')\n",
    "plt.legend()\n",
    "plt.savefig(\"2_large_BL.pdf\")\n",
    "plt.show()"
   ]
  },
  {
   "cell_type": "code",
   "execution_count": null,
   "metadata": {},
   "outputs": [],
   "source": []
  }
 ],
 "metadata": {
  "kernelspec": {
   "display_name": "Python 3",
   "language": "python",
   "name": "python3"
  },
  "language_info": {
   "codemirror_mode": {
    "name": "ipython",
    "version": 3
   },
   "file_extension": ".py",
   "mimetype": "text/x-python",
   "name": "python",
   "nbconvert_exporter": "python",
   "pygments_lexer": "ipython3",
   "version": "3.8.5"
  }
 },
 "nbformat": 4,
 "nbformat_minor": 2
}
