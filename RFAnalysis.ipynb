{
 "cells": [
  {
   "cell_type": "code",
   "execution_count": 50,
   "metadata": {
    "collapsed": true
   },
   "outputs": [],
   "source": [
    "import dendropy\n",
    "import glob\n",
    "from dendropy.calculate import treecompare\n",
    "import pandas as pd\n",
    "import matplotlib.pyplot as plt\n",
    "import seaborn as sns"
   ]
  },
  {
   "cell_type": "code",
   "execution_count": 51,
   "metadata": {
    "collapsed": true
   },
   "outputs": [],
   "source": [
    "reference_tree = dendropy.Tree.get_from_path(\"barden.tre\", schema = \"nexus\", preserve_underscores=True)"
   ]
  },
  {
   "cell_type": "code",
   "execution_count": 52,
   "metadata": {
    "collapsed": true
   },
   "outputs": [],
   "source": [
    "list_trees = glob.glob(\"Tri.sum.trees/mcc/*.tree\")"
   ]
  },
  {
   "cell_type": "code",
   "execution_count": 53,
   "metadata": {
    "collapsed": true
   },
   "outputs": [],
   "source": [
    "list_untrees = glob.glob(\"Tri.sum.untrees/mcc/*.tree\")"
   ]
  },
  {
   "cell_type": "code",
   "execution_count": 54,
   "metadata": {},
   "outputs": [
    {
     "data": {
      "text/plain": [
       "['Tri.sum.trees/mcc\\\\1.nex.trees.mcc.tree',\n",
       " 'Tri.sum.trees/mcc\\\\10.nex.trees.mcc.tree',\n",
       " 'Tri.sum.trees/mcc\\\\100.nex.trees.mcc.tree',\n",
       " 'Tri.sum.trees/mcc\\\\11.nex.trees.mcc.tree',\n",
       " 'Tri.sum.trees/mcc\\\\12.nex.trees.mcc.tree',\n",
       " 'Tri.sum.trees/mcc\\\\13.nex.trees.mcc.tree',\n",
       " 'Tri.sum.trees/mcc\\\\14.nex.trees.mcc.tree',\n",
       " 'Tri.sum.trees/mcc\\\\15.nex.trees.mcc.tree',\n",
       " 'Tri.sum.trees/mcc\\\\16.nex.trees.mcc.tree',\n",
       " 'Tri.sum.trees/mcc\\\\17.nex.trees.mcc.tree',\n",
       " 'Tri.sum.trees/mcc\\\\18.nex.trees.mcc.tree',\n",
       " 'Tri.sum.trees/mcc\\\\19.nex.trees.mcc.tree',\n",
       " 'Tri.sum.trees/mcc\\\\2.nex.trees.mcc.tree',\n",
       " 'Tri.sum.trees/mcc\\\\20.nex.trees.mcc.tree',\n",
       " 'Tri.sum.trees/mcc\\\\21.nex.trees.mcc.tree',\n",
       " 'Tri.sum.trees/mcc\\\\22.nex.trees.mcc.tree',\n",
       " 'Tri.sum.trees/mcc\\\\23.nex.trees.mcc.tree',\n",
       " 'Tri.sum.trees/mcc\\\\24.nex.trees.mcc.tree',\n",
       " 'Tri.sum.trees/mcc\\\\25.nex.trees.mcc.tree',\n",
       " 'Tri.sum.trees/mcc\\\\26.nex.trees.mcc.tree',\n",
       " 'Tri.sum.trees/mcc\\\\27.nex.trees.mcc.tree',\n",
       " 'Tri.sum.trees/mcc\\\\28.nex.trees.mcc.tree',\n",
       " 'Tri.sum.trees/mcc\\\\29.nex.trees.mcc.tree',\n",
       " 'Tri.sum.trees/mcc\\\\3.nex.trees.mcc.tree',\n",
       " 'Tri.sum.trees/mcc\\\\30.nex.trees.mcc.tree',\n",
       " 'Tri.sum.trees/mcc\\\\31.nex.trees.mcc.tree',\n",
       " 'Tri.sum.trees/mcc\\\\32.nex.trees.mcc.tree',\n",
       " 'Tri.sum.trees/mcc\\\\33.nex.trees.mcc.tree',\n",
       " 'Tri.sum.trees/mcc\\\\34.nex.trees.mcc.tree',\n",
       " 'Tri.sum.trees/mcc\\\\35.nex.trees.mcc.tree',\n",
       " 'Tri.sum.trees/mcc\\\\36.nex.trees.mcc.tree',\n",
       " 'Tri.sum.trees/mcc\\\\37.nex.trees.mcc.tree',\n",
       " 'Tri.sum.trees/mcc\\\\38.nex.trees.mcc.tree',\n",
       " 'Tri.sum.trees/mcc\\\\39.nex.trees.mcc.tree',\n",
       " 'Tri.sum.trees/mcc\\\\4.nex.trees.mcc.tree',\n",
       " 'Tri.sum.trees/mcc\\\\40.nex.trees.mcc.tree',\n",
       " 'Tri.sum.trees/mcc\\\\41.nex.trees.mcc.tree',\n",
       " 'Tri.sum.trees/mcc\\\\42.nex.trees.mcc.tree',\n",
       " 'Tri.sum.trees/mcc\\\\43.nex.trees.mcc.tree',\n",
       " 'Tri.sum.trees/mcc\\\\44.nex.trees.mcc.tree',\n",
       " 'Tri.sum.trees/mcc\\\\45.nex.trees.mcc.tree',\n",
       " 'Tri.sum.trees/mcc\\\\46.nex.trees.mcc.tree',\n",
       " 'Tri.sum.trees/mcc\\\\47.nex.trees.mcc.tree',\n",
       " 'Tri.sum.trees/mcc\\\\48.nex.trees.mcc.tree',\n",
       " 'Tri.sum.trees/mcc\\\\49.nex.trees.mcc.tree',\n",
       " 'Tri.sum.trees/mcc\\\\5.nex.trees.mcc.tree',\n",
       " 'Tri.sum.trees/mcc\\\\50.nex.trees.mcc.tree',\n",
       " 'Tri.sum.trees/mcc\\\\51.nex.trees.mcc.tree',\n",
       " 'Tri.sum.trees/mcc\\\\52.nex.trees.mcc.tree',\n",
       " 'Tri.sum.trees/mcc\\\\53.nex.trees.mcc.tree',\n",
       " 'Tri.sum.trees/mcc\\\\54.nex.trees.mcc.tree',\n",
       " 'Tri.sum.trees/mcc\\\\55.nex.trees.mcc.tree',\n",
       " 'Tri.sum.trees/mcc\\\\56.nex.trees.mcc.tree',\n",
       " 'Tri.sum.trees/mcc\\\\57.nex.trees.mcc.tree',\n",
       " 'Tri.sum.trees/mcc\\\\58.nex.trees.mcc.tree',\n",
       " 'Tri.sum.trees/mcc\\\\59.nex.trees.mcc.tree',\n",
       " 'Tri.sum.trees/mcc\\\\6.nex.trees.mcc.tree',\n",
       " 'Tri.sum.trees/mcc\\\\60.nex.trees.mcc.tree',\n",
       " 'Tri.sum.trees/mcc\\\\61.nex.trees.mcc.tree',\n",
       " 'Tri.sum.trees/mcc\\\\62.nex.trees.mcc.tree',\n",
       " 'Tri.sum.trees/mcc\\\\63.nex.trees.mcc.tree',\n",
       " 'Tri.sum.trees/mcc\\\\64.nex.trees.mcc.tree',\n",
       " 'Tri.sum.trees/mcc\\\\65.nex.trees.mcc.tree',\n",
       " 'Tri.sum.trees/mcc\\\\66.nex.trees.mcc.tree',\n",
       " 'Tri.sum.trees/mcc\\\\67.nex.trees.mcc.tree',\n",
       " 'Tri.sum.trees/mcc\\\\68.nex.trees.mcc.tree',\n",
       " 'Tri.sum.trees/mcc\\\\69.nex.trees.mcc.tree',\n",
       " 'Tri.sum.trees/mcc\\\\7.nex.trees.mcc.tree',\n",
       " 'Tri.sum.trees/mcc\\\\70.nex.trees.mcc.tree',\n",
       " 'Tri.sum.trees/mcc\\\\71.nex.trees.mcc.tree',\n",
       " 'Tri.sum.trees/mcc\\\\72.nex.trees.mcc.tree',\n",
       " 'Tri.sum.trees/mcc\\\\73.nex.trees.mcc.tree',\n",
       " 'Tri.sum.trees/mcc\\\\74.nex.trees.mcc.tree',\n",
       " 'Tri.sum.trees/mcc\\\\75.nex.trees.mcc.tree',\n",
       " 'Tri.sum.trees/mcc\\\\76.nex.trees.mcc.tree',\n",
       " 'Tri.sum.trees/mcc\\\\77.nex.trees.mcc.tree',\n",
       " 'Tri.sum.trees/mcc\\\\78.nex.trees.mcc.tree',\n",
       " 'Tri.sum.trees/mcc\\\\79.nex.trees.mcc.tree',\n",
       " 'Tri.sum.trees/mcc\\\\8.nex.trees.mcc.tree',\n",
       " 'Tri.sum.trees/mcc\\\\80.nex.trees.mcc.tree',\n",
       " 'Tri.sum.trees/mcc\\\\81.nex.trees.mcc.tree',\n",
       " 'Tri.sum.trees/mcc\\\\82.nex.trees.mcc.tree',\n",
       " 'Tri.sum.trees/mcc\\\\83.nex.trees.mcc.tree',\n",
       " 'Tri.sum.trees/mcc\\\\84.nex.trees.mcc.tree',\n",
       " 'Tri.sum.trees/mcc\\\\85.nex.trees.mcc.tree',\n",
       " 'Tri.sum.trees/mcc\\\\86.nex.trees.mcc.tree',\n",
       " 'Tri.sum.trees/mcc\\\\87.nex.trees.mcc.tree',\n",
       " 'Tri.sum.trees/mcc\\\\88.nex.trees.mcc.tree',\n",
       " 'Tri.sum.trees/mcc\\\\89.nex.trees.mcc.tree',\n",
       " 'Tri.sum.trees/mcc\\\\9.nex.trees.mcc.tree',\n",
       " 'Tri.sum.trees/mcc\\\\90.nex.trees.mcc.tree',\n",
       " 'Tri.sum.trees/mcc\\\\91.nex.trees.mcc.tree',\n",
       " 'Tri.sum.trees/mcc\\\\92.nex.trees.mcc.tree',\n",
       " 'Tri.sum.trees/mcc\\\\93.nex.trees.mcc.tree',\n",
       " 'Tri.sum.trees/mcc\\\\94.nex.trees.mcc.tree',\n",
       " 'Tri.sum.trees/mcc\\\\95.nex.trees.mcc.tree',\n",
       " 'Tri.sum.trees/mcc\\\\96.nex.trees.mcc.tree',\n",
       " 'Tri.sum.trees/mcc\\\\97.nex.trees.mcc.tree',\n",
       " 'Tri.sum.trees/mcc\\\\98.nex.trees.mcc.tree',\n",
       " 'Tri.sum.trees/mcc\\\\99.nex.trees.mcc.tree']"
      ]
     },
     "execution_count": 54,
     "metadata": {},
     "output_type": "execute_result"
    }
   ],
   "source": [
    "list_trees"
   ]
  },
  {
   "cell_type": "code",
   "execution_count": 55,
   "metadata": {},
   "outputs": [
    {
     "data": {
      "text/plain": [
       "['Tri.sum.untrees/mcc\\\\1.nex.trees.mcc.tree',\n",
       " 'Tri.sum.untrees/mcc\\\\10.nex.trees.mcc.tree',\n",
       " 'Tri.sum.untrees/mcc\\\\100.nex.trees.mcc.tree',\n",
       " 'Tri.sum.untrees/mcc\\\\11.nex.trees.mcc.tree',\n",
       " 'Tri.sum.untrees/mcc\\\\12.nex.trees.mcc.tree',\n",
       " 'Tri.sum.untrees/mcc\\\\13.nex.trees.mcc.tree',\n",
       " 'Tri.sum.untrees/mcc\\\\14.nex.trees.mcc.tree',\n",
       " 'Tri.sum.untrees/mcc\\\\15.nex.trees.mcc.tree',\n",
       " 'Tri.sum.untrees/mcc\\\\16.nex.trees.mcc.tree',\n",
       " 'Tri.sum.untrees/mcc\\\\17.nex.trees.mcc.tree',\n",
       " 'Tri.sum.untrees/mcc\\\\18.nex.trees.mcc.tree',\n",
       " 'Tri.sum.untrees/mcc\\\\19.nex.trees.mcc.tree',\n",
       " 'Tri.sum.untrees/mcc\\\\2.nex.trees.mcc.tree',\n",
       " 'Tri.sum.untrees/mcc\\\\20.nex.trees.mcc.tree',\n",
       " 'Tri.sum.untrees/mcc\\\\21.nex.trees.mcc.tree',\n",
       " 'Tri.sum.untrees/mcc\\\\22.nex.trees.mcc.tree',\n",
       " 'Tri.sum.untrees/mcc\\\\23.nex.trees.mcc.tree',\n",
       " 'Tri.sum.untrees/mcc\\\\24.nex.trees.mcc.tree',\n",
       " 'Tri.sum.untrees/mcc\\\\25.nex.trees.mcc.tree',\n",
       " 'Tri.sum.untrees/mcc\\\\26.nex.trees.mcc.tree',\n",
       " 'Tri.sum.untrees/mcc\\\\27.nex.trees.mcc.tree',\n",
       " 'Tri.sum.untrees/mcc\\\\28.nex.trees.mcc.tree',\n",
       " 'Tri.sum.untrees/mcc\\\\29.nex.trees.mcc.tree',\n",
       " 'Tri.sum.untrees/mcc\\\\3.nex.trees.mcc.tree',\n",
       " 'Tri.sum.untrees/mcc\\\\30.nex.trees.mcc.tree',\n",
       " 'Tri.sum.untrees/mcc\\\\31.nex.trees.mcc.tree',\n",
       " 'Tri.sum.untrees/mcc\\\\32.nex.trees.mcc.tree',\n",
       " 'Tri.sum.untrees/mcc\\\\33.nex.trees.mcc.tree',\n",
       " 'Tri.sum.untrees/mcc\\\\34.nex.trees.mcc.tree',\n",
       " 'Tri.sum.untrees/mcc\\\\35.nex.trees.mcc.tree',\n",
       " 'Tri.sum.untrees/mcc\\\\36.nex.trees.mcc.tree',\n",
       " 'Tri.sum.untrees/mcc\\\\37.nex.trees.mcc.tree',\n",
       " 'Tri.sum.untrees/mcc\\\\38.nex.trees.mcc.tree',\n",
       " 'Tri.sum.untrees/mcc\\\\39.nex.trees.mcc.tree',\n",
       " 'Tri.sum.untrees/mcc\\\\4.nex.trees.mcc.tree',\n",
       " 'Tri.sum.untrees/mcc\\\\40.nex.trees.mcc.tree',\n",
       " 'Tri.sum.untrees/mcc\\\\41.nex.trees.mcc.tree',\n",
       " 'Tri.sum.untrees/mcc\\\\42.nex.trees.mcc.tree',\n",
       " 'Tri.sum.untrees/mcc\\\\43.nex.trees.mcc.tree',\n",
       " 'Tri.sum.untrees/mcc\\\\44.nex.trees.mcc.tree',\n",
       " 'Tri.sum.untrees/mcc\\\\45.nex.trees.mcc.tree',\n",
       " 'Tri.sum.untrees/mcc\\\\46.nex.trees.mcc.tree',\n",
       " 'Tri.sum.untrees/mcc\\\\47.nex.trees.mcc.tree',\n",
       " 'Tri.sum.untrees/mcc\\\\48.nex.trees.mcc.tree',\n",
       " 'Tri.sum.untrees/mcc\\\\49.nex.trees.mcc.tree',\n",
       " 'Tri.sum.untrees/mcc\\\\5.nex.trees.mcc.tree',\n",
       " 'Tri.sum.untrees/mcc\\\\50.nex.trees.mcc.tree',\n",
       " 'Tri.sum.untrees/mcc\\\\51.nex.trees.mcc.tree',\n",
       " 'Tri.sum.untrees/mcc\\\\52.nex.trees.mcc.tree',\n",
       " 'Tri.sum.untrees/mcc\\\\53.nex.trees.mcc.tree',\n",
       " 'Tri.sum.untrees/mcc\\\\54.nex.trees.mcc.tree',\n",
       " 'Tri.sum.untrees/mcc\\\\55.nex.trees.mcc.tree',\n",
       " 'Tri.sum.untrees/mcc\\\\56.nex.trees.mcc.tree',\n",
       " 'Tri.sum.untrees/mcc\\\\57.nex.trees.mcc.tree',\n",
       " 'Tri.sum.untrees/mcc\\\\58.nex.trees.mcc.tree',\n",
       " 'Tri.sum.untrees/mcc\\\\59.nex.trees.mcc.tree',\n",
       " 'Tri.sum.untrees/mcc\\\\6.nex.trees.mcc.tree',\n",
       " 'Tri.sum.untrees/mcc\\\\60.nex.trees.mcc.tree',\n",
       " 'Tri.sum.untrees/mcc\\\\61.nex.trees.mcc.tree',\n",
       " 'Tri.sum.untrees/mcc\\\\62.nex.trees.mcc.tree',\n",
       " 'Tri.sum.untrees/mcc\\\\63.nex.trees.mcc.tree',\n",
       " 'Tri.sum.untrees/mcc\\\\64.nex.trees.mcc.tree',\n",
       " 'Tri.sum.untrees/mcc\\\\65.nex.trees.mcc.tree',\n",
       " 'Tri.sum.untrees/mcc\\\\66.nex.trees.mcc.tree',\n",
       " 'Tri.sum.untrees/mcc\\\\67.nex.trees.mcc.tree',\n",
       " 'Tri.sum.untrees/mcc\\\\68.nex.trees.mcc.tree',\n",
       " 'Tri.sum.untrees/mcc\\\\69.nex.trees.mcc.tree',\n",
       " 'Tri.sum.untrees/mcc\\\\7.nex.trees.mcc.tree',\n",
       " 'Tri.sum.untrees/mcc\\\\70.nex.trees.mcc.tree',\n",
       " 'Tri.sum.untrees/mcc\\\\71.nex.trees.mcc.tree',\n",
       " 'Tri.sum.untrees/mcc\\\\72.nex.trees.mcc.tree',\n",
       " 'Tri.sum.untrees/mcc\\\\73.nex.trees.mcc.tree',\n",
       " 'Tri.sum.untrees/mcc\\\\74.nex.trees.mcc.tree',\n",
       " 'Tri.sum.untrees/mcc\\\\75.nex.trees.mcc.tree',\n",
       " 'Tri.sum.untrees/mcc\\\\76.nex.trees.mcc.tree',\n",
       " 'Tri.sum.untrees/mcc\\\\77.nex.trees.mcc.tree',\n",
       " 'Tri.sum.untrees/mcc\\\\78.nex.trees.mcc.tree',\n",
       " 'Tri.sum.untrees/mcc\\\\79.nex.trees.mcc.tree',\n",
       " 'Tri.sum.untrees/mcc\\\\8.nex.trees.mcc.tree',\n",
       " 'Tri.sum.untrees/mcc\\\\80.nex.trees.mcc.tree',\n",
       " 'Tri.sum.untrees/mcc\\\\81.nex.trees.mcc.tree',\n",
       " 'Tri.sum.untrees/mcc\\\\82.nex.trees.mcc.tree',\n",
       " 'Tri.sum.untrees/mcc\\\\83.nex.trees.mcc.tree',\n",
       " 'Tri.sum.untrees/mcc\\\\84.nex.trees.mcc.tree',\n",
       " 'Tri.sum.untrees/mcc\\\\85.nex.trees.mcc.tree',\n",
       " 'Tri.sum.untrees/mcc\\\\86.nex.trees.mcc.tree',\n",
       " 'Tri.sum.untrees/mcc\\\\87.nex.trees.mcc.tree',\n",
       " 'Tri.sum.untrees/mcc\\\\88.nex.trees.mcc.tree',\n",
       " 'Tri.sum.untrees/mcc\\\\89.nex.trees.mcc.tree',\n",
       " 'Tri.sum.untrees/mcc\\\\9.nex.trees.mcc.tree',\n",
       " 'Tri.sum.untrees/mcc\\\\90.nex.trees.mcc.tree',\n",
       " 'Tri.sum.untrees/mcc\\\\91.nex.trees.mcc.tree',\n",
       " 'Tri.sum.untrees/mcc\\\\92.nex.trees.mcc.tree',\n",
       " 'Tri.sum.untrees/mcc\\\\93.nex.trees.mcc.tree',\n",
       " 'Tri.sum.untrees/mcc\\\\94.nex.trees.mcc.tree',\n",
       " 'Tri.sum.untrees/mcc\\\\95.nex.trees.mcc.tree',\n",
       " 'Tri.sum.untrees/mcc\\\\96.nex.trees.mcc.tree',\n",
       " 'Tri.sum.untrees/mcc\\\\97.nex.trees.mcc.tree',\n",
       " 'Tri.sum.untrees/mcc\\\\98.nex.trees.mcc.tree',\n",
       " 'Tri.sum.untrees/mcc\\\\99.nex.trees.mcc.tree']"
      ]
     },
     "execution_count": 55,
     "metadata": {},
     "output_type": "execute_result"
    }
   ],
   "source": [
    "list_untrees"
   ]
  },
  {
   "cell_type": "code",
   "execution_count": 56,
   "metadata": {},
   "outputs": [
    {
     "name": "stdout",
     "output_type": "stream",
     "text": [
      "54\n",
      "56\n",
      "56\n",
      "56\n",
      "56\n",
      "56\n",
      "54\n",
      "54\n",
      "52\n",
      "56\n",
      "56\n",
      "54\n",
      "56\n",
      "54\n",
      "56\n",
      "56\n",
      "56\n",
      "56\n",
      "54\n",
      "56\n",
      "56\n",
      "54\n",
      "54\n",
      "52\n",
      "56\n",
      "56\n",
      "52\n",
      "54\n",
      "54\n",
      "54\n",
      "56\n",
      "56\n",
      "56\n",
      "56\n",
      "54\n",
      "56\n",
      "56\n",
      "54\n",
      "56\n",
      "54\n",
      "56\n",
      "56\n",
      "56\n",
      "56\n",
      "54\n",
      "54\n",
      "56\n",
      "54\n",
      "56\n",
      "54\n",
      "54\n",
      "54\n",
      "52\n",
      "56\n",
      "56\n",
      "52\n",
      "56\n",
      "56\n",
      "56\n",
      "56\n",
      "56\n",
      "56\n",
      "54\n",
      "54\n",
      "54\n",
      "56\n",
      "56\n",
      "54\n",
      "54\n",
      "56\n",
      "56\n",
      "54\n",
      "54\n",
      "54\n",
      "54\n",
      "52\n",
      "56\n",
      "56\n",
      "56\n",
      "56\n",
      "56\n",
      "56\n",
      "54\n",
      "54\n",
      "54\n",
      "52\n",
      "56\n",
      "54\n",
      "56\n",
      "56\n",
      "56\n",
      "54\n",
      "54\n",
      "54\n",
      "56\n",
      "56\n",
      "54\n",
      "54\n",
      "56\n",
      "56\n"
     ]
    }
   ],
   "source": [
    "rf_unlist = []\n",
    "for tree in list_untrees:\n",
    "    est_tree = dendropy.Tree.get_from_path(tree, schema = \"nexus\", preserve_underscores = True, taxon_namespace = reference_tree.taxon_namespace)\n",
    "    unrf = treecompare.symmetric_difference(reference_tree, est_tree)\n",
    "    rf_unlist.append(unrf)\n",
    "    print(unrf)"
   ]
  },
  {
   "cell_type": "code",
   "execution_count": 57,
   "metadata": {},
   "outputs": [
    {
     "name": "stdout",
     "output_type": "stream",
     "text": [
      "50\n",
      "52\n",
      "50\n",
      "54\n",
      "56\n",
      "52\n",
      "50\n",
      "54\n",
      "56\n",
      "54\n",
      "50\n",
      "54\n",
      "52\n",
      "52\n",
      "56\n",
      "52\n",
      "50\n",
      "54\n",
      "54\n",
      "52\n",
      "52\n",
      "56\n",
      "54\n",
      "56\n",
      "56\n",
      "52\n",
      "54\n",
      "48\n",
      "52\n",
      "52\n",
      "54\n",
      "54\n",
      "54\n",
      "52\n",
      "54\n",
      "54\n",
      "54\n",
      "52\n",
      "52\n",
      "56\n",
      "54\n",
      "54\n",
      "56\n",
      "52\n",
      "52\n",
      "52\n",
      "54\n",
      "52\n",
      "52\n",
      "56\n",
      "54\n",
      "54\n",
      "56\n",
      "54\n",
      "56\n",
      "50\n",
      "56\n",
      "54\n",
      "52\n",
      "56\n",
      "54\n",
      "50\n",
      "54\n",
      "56\n",
      "52\n",
      "56\n",
      "52\n",
      "54\n",
      "50\n",
      "54\n",
      "54\n",
      "54\n",
      "56\n",
      "52\n",
      "52\n",
      "56\n",
      "56\n",
      "54\n",
      "54\n",
      "50\n",
      "50\n",
      "54\n",
      "56\n",
      "52\n",
      "54\n",
      "54\n",
      "52\n",
      "54\n",
      "54\n",
      "50\n",
      "56\n",
      "56\n",
      "52\n",
      "54\n",
      "54\n",
      "54\n",
      "50\n",
      "56\n",
      "54\n",
      "54\n"
     ]
    }
   ],
   "source": [
    "rf_list = []\n",
    "for tree in list_trees:\n",
    "    est_tree = dendropy.Tree.get_from_path(tree, schema = \"nexus\", preserve_underscores = True, taxon_namespace = reference_tree.taxon_namespace)\n",
    "    rf = treecompare.symmetric_difference(reference_tree, est_tree)\n",
    "    rf_list.append(rf)\n",
    "    print(rf)"
   ]
  },
  {
   "cell_type": "code",
   "execution_count": 79,
   "metadata": {},
   "outputs": [],
   "source": [
    "df = pd.DataFrame({'RF': rf_list, 'unRF': rf_unlist})\n",
    "df[\"Magnitude\"] = df[\"unRF\"] - df[\"RF\"]"
   ]
  },
  {
   "cell_type": "code",
   "execution_count": 59,
   "metadata": {},
   "outputs": [
    {
     "data": {
      "text/plain": [
       "array([[<matplotlib.axes._subplots.AxesSubplot object at 0x0000020F035203C8>,\n",
       "        <matplotlib.axes._subplots.AxesSubplot object at 0x0000020F00848EB8>]], dtype=object)"
      ]
     },
     "execution_count": 59,
     "metadata": {},
     "output_type": "execute_result"
    }
   ],
   "source": [
    "df.hist()"
   ]
  },
  {
   "cell_type": "code",
   "execution_count": 93,
   "metadata": {},
   "outputs": [
    {
     "data": {
      "image/png": "[encoded data removed]",
      "text/plain": [
       "<matplotlib.figure.Figure at 0x20f037271d0>"
      ]
     },
     "metadata": {},
     "output_type": "display_data"
    }
   ],
   "source": [
    "sns.distplot(df[\"Magnitude\"], kde = True, color = \"blue\")\n",
    "plt.xlabel(\"Change in Distance to True Tree\")\n",
    "plt.ylabel(\"Frequency\")\n",
    "plt.savefig(\"Figure 1.pdf\")\n",
    "plt.show()"
   ]
  },
  {
   "cell_type": "code",
   "execution_count": 94,
   "metadata": {},
   "outputs": [
    {
     "data": {
      "image/png": "[encoded data removed]",
      "text/plain": [
       "<matplotlib.figure.Figure at 0x20f034616d8>"
      ]
     },
     "metadata": {},
     "output_type": "display_data"
    }
   ],
   "source": [
    "sns.distplot(df[\"RF\"], kde = True, label = \"Partitioned\", color = \"red\")\n",
    "sns.distplot(df[\"unRF\"], kde = True, label = \"Unpartitioned\", color = \"blue\")\n",
    "plt.xlabel(\"Change in Distance to True Tree\")\n",
    "plt.ylabel(\"Frequency\")\n",
    "plt.savefig(\"Figure 2.pdf\")\n",
    "plt.show()"
   ]
  },
  {
   "cell_type": "code",
   "execution_count": 90,
   "metadata": {},
   "outputs": [
    {
     "data": {
      "text/plain": [
       "100"
      ]
     },
     "execution_count": 90,
     "metadata": {},
     "output_type": "execute_result"
    }
   ],
   "source": [
    "len(rf_list)"
   ]
  },
  {
   "cell_type": "code",
   "execution_count": null,
   "metadata": {
    "collapsed": true
   },
   "outputs": [],
   "source": []
  },
  {
   "cell_type": "code",
   "execution_count": null,
   "metadata": {
    "collapsed": true
   },
   "outputs": [],
   "source": []
  },
  {
   "cell_type": "code",
   "execution_count": null,
   "metadata": {
    "collapsed": true
   },
   "outputs": [],
   "source": []
  }
 ],
 "metadata": {
  "kernelspec": {
   "display_name": "Python 3",
   "language": "python",
   "name": "python3"
  },
  "language_info": {
   "codemirror_mode": {
    "name": "ipython",
    "version": 3
   },
   "file_extension": ".py",
   "mimetype": "text/x-python",
   "name": "python",
   "nbconvert_exporter": "python",
   "pygments_lexer": "ipython3",
   "version": "3.6.3"
  }
 },
 "nbformat": 4,
 "nbformat_minor": 2
}
